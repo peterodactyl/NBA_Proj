{
 "cells": [
  {
   "cell_type": "code",
   "execution_count": 1,
   "source": [
    "import pandas as pd\r\n",
    "import twint\r\n",
    "import nest_asyncio\r\n",
    "import datetime\r\n",
    "nest_asyncio.apply()"
   ],
   "outputs": [],
   "metadata": {}
  },
  {
   "cell_type": "code",
   "execution_count": 2,
   "source": [
    "data = {\r\n",
    "    'team': ['brasil', 'espanha', 'italia', 'inglaterra'],\r\n",
    "    'game_date': ['2021-08-07', '2021-08-07', '2021-07-11', '2021-07-11']}\r\n",
    "parameters = pd.DataFrame(data=data)"
   ],
   "outputs": [],
   "metadata": {}
  },
  {
   "cell_type": "code",
   "execution_count": 3,
   "source": [
    "parameters.game_date = pd.to_datetime(parameters.game_date)\r\n",
    "parameters['tweet_date1'] = parameters['game_date'] - datetime.timedelta(1)\r\n",
    "parameters['tweet_date2'] = parameters['game_date'] - datetime.timedelta(3)"
   ],
   "outputs": [],
   "metadata": {}
  },
  {
   "cell_type": "code",
   "execution_count": 4,
   "source": [
    "parameters"
   ],
   "outputs": [
    {
     "output_type": "execute_result",
     "data": {
      "text/plain": [
       "         team  game_date tweet_date1 tweet_date2\n",
       "0      brasil 2021-08-07  2021-08-06  2021-08-04\n",
       "1     espanha 2021-08-07  2021-08-06  2021-08-04\n",
       "2      italia 2021-07-11  2021-07-10  2021-07-08\n",
       "3  inglaterra 2021-07-11  2021-07-10  2021-07-08"
      ],
      "text/html": [
       "<div>\n",
       "<style scoped>\n",
       "    .dataframe tbody tr th:only-of-type {\n",
       "        vertical-align: middle;\n",
       "    }\n",
       "\n",
       "    .dataframe tbody tr th {\n",
       "        vertical-align: top;\n",
       "    }\n",
       "\n",
       "    .dataframe thead th {\n",
       "        text-align: right;\n",
       "    }\n",
       "</style>\n",
       "<table border=\"1\" class=\"dataframe\">\n",
       "  <thead>\n",
       "    <tr style=\"text-align: right;\">\n",
       "      <th></th>\n",
       "      <th>team</th>\n",
       "      <th>game_date</th>\n",
       "      <th>tweet_date1</th>\n",
       "      <th>tweet_date2</th>\n",
       "    </tr>\n",
       "  </thead>\n",
       "  <tbody>\n",
       "    <tr>\n",
       "      <th>0</th>\n",
       "      <td>brasil</td>\n",
       "      <td>2021-08-07</td>\n",
       "      <td>2021-08-06</td>\n",
       "      <td>2021-08-04</td>\n",
       "    </tr>\n",
       "    <tr>\n",
       "      <th>1</th>\n",
       "      <td>espanha</td>\n",
       "      <td>2021-08-07</td>\n",
       "      <td>2021-08-06</td>\n",
       "      <td>2021-08-04</td>\n",
       "    </tr>\n",
       "    <tr>\n",
       "      <th>2</th>\n",
       "      <td>italia</td>\n",
       "      <td>2021-07-11</td>\n",
       "      <td>2021-07-10</td>\n",
       "      <td>2021-07-08</td>\n",
       "    </tr>\n",
       "    <tr>\n",
       "      <th>3</th>\n",
       "      <td>inglaterra</td>\n",
       "      <td>2021-07-11</td>\n",
       "      <td>2021-07-10</td>\n",
       "      <td>2021-07-08</td>\n",
       "    </tr>\n",
       "  </tbody>\n",
       "</table>\n",
       "</div>"
      ]
     },
     "metadata": {},
     "execution_count": 4
    }
   ],
   "metadata": {}
  },
  {
   "cell_type": "code",
   "execution_count": 6,
   "source": [
    "for i in range(len(parameters)):\r\n",
    "    print(str(parameters.loc[i]['tweet_date1'].date()))"
   ],
   "outputs": [
    {
     "output_type": "stream",
     "name": "stdout",
     "text": [
      "2021-08-06\n",
      "2021-08-06\n",
      "2021-07-10\n",
      "2021-07-10\n"
     ]
    }
   ],
   "metadata": {}
  },
  {
   "cell_type": "code",
   "execution_count": 11,
   "source": [
    "twitter_data = pd.DataFrame()\r\n",
    "\r\n",
    "for i in range(len(parameters)):\r\n",
    "    # Configure\r\n",
    "    c = twint.Config()\r\n",
    "    c.Search = parameters.loc[i]['team']\r\n",
    "    c.Lang = 'en'\r\n",
    "    c.Since = str(parameters.loc[i]['tweet_date2'].date())\r\n",
    "    c.Until = str(parameters.loc[i]['tweet_date1'].date())\r\n",
    "    c.Limit = 100\r\n",
    "    c.Pandas = True\r\n",
    "\r\n",
    "    # Run\r\n",
    "    twint.run.Search(c)\r\n",
    "\r\n",
    "    # Save \r\n",
    "    results = twint.storage.panda.Tweets_df\r\n",
    "    results['team'] = parameters.loc[i]['team']\r\n",
    "    twitter_data = pd.concat([twitter_data, results[['tweet', 'team']]])"
   ],
   "outputs": [
    {
     "output_type": "stream",
     "name": "stdout",
     "text": [
      "1423071246124728330 2021-08-04 20:59:59 -0300 <mayarasantanx> a meta hj é ficar acordada pra conseguir assistir o Brasil jogar hj, porém tem aula amn e tenho q acordar cedo\n",
      "1423071244451291142 2021-08-04 20:59:58 -0300 <NiltonWeb> @FoxSportsBrasil @sportrecife Hernanes terá o prazer de jogar em um time de 2°. Hahahahahaha\n",
      "1423071241972457472 2021-08-04 20:59:58 -0300 <RobertoBloise1> ALIADO DE BOLSONARO NA DESTRUIÇÃO DO BRASIL\n",
      "1423071239023779844 2021-08-04 20:59:57 -0300 <OBrasilDVerdade> @jairbolsonaro por favor, cola uma equipe da PF no Janino, porque ele pode ser “suicidado”! #CPIdoTSE #BarrosoNaCadeia #VotoImpressoAuditavelComContagemPublica  #BolsonaroPresidenteAte2026\n",
      "1423071238390419457 2021-08-04 20:59:57 -0300 <GoiasBrasil_voz> @robertaacrf_ Any é a maior planta da ilha.\n",
      "1423071237526495232 2021-08-04 20:59:57 -0300 <deny_denyca23> Só tem ladroes no Brasil?……Jornal de Portugal….  “O Lula é que conta para o futuro, os outros foram para a galeria\"     https://t.co/oH8j4QRUGt\n",
      "1423071235450318850 2021-08-04 20:59:56 -0300 <louierights> nao tem brasil na primeira bateria n vou passar mal logo de início\n",
      "1423071235265675266 2021-08-04 20:59:56 -0300 <unfuckholy> @dojacait alguém avisa a realidade pro Brasil\n",
      "1423071234804301828 2021-08-04 20:59:56 -0300 <LamarBrasil> ZOOM CALL| Vem aí Lamar gamer? Vamo jogar Free-Fire!  Durante a chamada, Lamar conversou com fãs sobre jogos dizendo não saber nabegar  na plataforma Twitch, mas que gostaria muito de aprender!\n",
      "1423071232375857158 2021-08-04 20:59:55 -0300 <ashuxa1> Bora porra, torcer pra todo mundo q não for do brasil cair #Skatepark\n",
      "1423071231503474692 2021-08-04 20:59:55 -0300 <ONEBRTeam> [PIC]  https://t.co/uN6n9zZAXm\n",
      "1423071229695733762 2021-08-04 20:59:55 -0300 <Fengxinbisurtad> @camis_aqui @mdzswangji Sinceramente, por mim a new pop pode demorar o tempo que quiser eu tenho títulos que eles lançaram e alguns que até atrasaram e digo que a qualidade editorial deles é a melhor do mercado de mangás e de novel que eu já vi 🛐✨✨✨✨\n",
      "1423071229284700164 2021-08-04 20:59:55 -0300 <AZangrande> @felipelago1985 👏🏻👏🏻👏🏻👏🏻lindo alimento!\n",
      "1423071227787239425 2021-08-04 20:59:54 -0300 <juniorwbtop> sera q fico acordado pra ver o brasil ganhando da russia hmm   https://t.co/CCamHSlS8N\n",
      "1423071227254611971 2021-08-04 20:59:54 -0300 <PaulFoles> @llamartignoni exatamente, agora vai ser outra história, Brasil vai crescendo ao longo da competição sempre  Mas tudo pode acontecer, Brasil x Rússia é um dos jogos mais tensos do vôlei, se não me engano é a terceira olimpíada seguida que enfrentamos eles kkkk\n",
      "1423071226390536193 2021-08-04 20:59:54 -0300 <Pinto_Fort> @italokindacool @Brasil_Fortnite @FortniteGame @ArianaGrande MT obrigado 🤙\n",
      "1423071223454576646 2021-08-04 20:59:53 -0300 <alexgreis> @leandroruschel Convoco a TODOS os conservadores a nos ajudar nessa luta importante. Vamos lá, meus amigos. Espalhem esta ideia. Pela família, pela Pátria, pelo Brasil!  https://t.co/4EPKEe53nJ\n",
      "1423071223299252224 2021-08-04 20:59:53 -0300 <radioipb> Pelos Campos do Brasil #W31_21 - REPRISE  https://t.co/g7Bf2Q1lsh\n",
      "1423071223123267586 2021-08-04 20:59:53 -0300 <favjigoo> @jenniekfelix ohh sim, é que por um momento achei que fosse a anglo\n",
      "1423071222833819650 2021-08-04 20:59:53 -0300 <RBrasilG> @STF_oficial @TSEjusbr O STF  está  fingindo  não estar vendo as denúncias  sobre as urnas no programa  \"Os Pingos  nos  Is\"\n",
      "1423070746822184971 2021-08-04 20:58:00 -0300 <goncalo_diass17> Nélson Oliveira (Movistar) obteve a 97.ª posição no segundo dia da Volta a Burgos, Espanha, numa etapa ganha pelo colombiano Juan Molano (UAE Emirates), e subiu ao 63.º posto da classificação geral.  https://t.co/4UWjQ7XXoT\n",
      "1423070736021925892 2021-08-04 20:57:57 -0300 <denjigaucho> @conceituaI cabra espanha\n",
      "1423070703939690500 2021-08-04 20:57:49 -0300 <AnaFern63674421> @AvelinoWandy Espanha #SenÇalKapımı\n",
      "1423070130150547463 2021-08-04 20:55:33 -0300 <Giovannagnl> @Espanha_19 Me dá 100 mil reais pfv\n",
      "1423069934117138435 2021-08-04 20:54:46 -0300 <flavioov2> @EmbEspBrasil Boa noite.  Eu entendi que há restrição apenas para voos saindo do Brasil, mas não há restrição para a entrada de cidadãos brasileiros que estejam vacinados. Dessa forma, é possível viajar para a Espanha saindo de outro país. Está correto o meu entendimento?\n",
      "1423069913372049408 2021-08-04 20:54:41 -0300 <Fernanda_Ab_> GERMANY É ESPANHA KKKKKKKKKKKKKKKKKK\n",
      "1423069785542246402 2021-08-04 20:54:10 -0300 <CoronavirusAL> 🇧🇷 Brasil | A Polícia Federal apreendeu 1.3 toneladas de cocaína em um avião particular turco no Aeroporto de Fortaleza. Na aeronave estavam 4 tripulantes da Turquia e o passageiro da Espanha. O avião saiu de Ribeirão Preto-SP e tinha como destino Bruxelas, na Bélgica.\n",
      "1423069748045230082 2021-08-04 20:54:01 -0300 <rfguerra> @GNgalo Cara, se eu sou um bilionário árabe ou chinês, eu vou preferir investir num clube médio ou pequeno da Inglaterra, da Italia, Espanha, Alemanha, França etc do q um curintia, por exemplo. O Chelsea é a prova disso. Quanto à governança, ela deveria estar automaticamente embutida, né\n",
      "1423069702646116358 2021-08-04 20:53:51 -0300 <cclpositive> @L_Fighera A Europa já está se aprontando para sua insurreição. Itália, França, Espanha, Alemanha são as principais praças do movimento. Em breve se espalhará pelo Ocidente e em Israel.  https://t.co/jU1zxUADPn\n",
      "1423069658542977024 2021-08-04 20:53:40 -0300 <dinonara_svt> @usebrusinhas Camisa da Espanha ta diferente  https://t.co/BQHtj6Aj05\n",
      "1423069117993586690 2021-08-04 20:51:31 -0300 <andresrguez> @nunottav Se há tugão que não quer da medalha bem podiam dar a Espanha 😂\n",
      "1423069002247688202 2021-08-04 20:51:04 -0300 <_LimaGustavo> eu acho que o Brasil traz ouro com o vôlei masculino e feminino, o futebol talvez, pois a Espanha ta uma panela da porra, é muito forte\n",
      "1423068943858667520 2021-08-04 20:50:50 -0300 <gilmarbritooli4> @FoxSportsBrasil Que título Renato ganhou pela seleção?, Eu não lembro de nenhum, até fui fã, mas Tele Santana nada gostava, foi cortado em 82 Copa da Espanha.\n",
      "1423068813533319168 2021-08-04 20:50:19 -0300 <adrianaferrel> @flaviocostaf Virou moda governo traficar depois que bozo foi pego na Espanha. Oxii\n",
      "1423068734638501891 2021-08-04 20:50:00 -0300 <_indefenix> \"GERMANIA É ESPANHA\" EU TO PASSANDO MAL HSUSHSUSHS\n",
      "1423068718947504130 2021-08-04 20:49:56 -0300 <DurvalN2107> @tvdsorteios @contasparadoar Globoplay Pais: Espanha\n",
      "1423068637309571073 2021-08-04 20:49:37 -0300 <IagoSou45959673> @Cris11714237 @carteiroreaca @andersongtorres Pq prenderam na espanha por que se fosse pela fiscalização do brasil ja tinha levado mais\n",
      "1423068513498017794 2021-08-04 20:49:07 -0300 <correio> Brasiliense Reinier tentará contra a Espanha o quarto título em dois anos como profissional.  https://t.co/nkw0ma9ZSb | por @mplimaDF  https://t.co/Mp4Ifh3I8I\n",
      "1423068218843967492 2021-08-04 20:47:57 -0300 <BTSsuporte7> @UGHBrasil @BTS_twt Espanha  DOE FILTER #MTVHOTTEST BTS @BTS_twt\n",
      "1423067763208228866 2021-08-04 20:46:08 -0300 <nau_sem_rumo> @muylaerte @botts___ Franco, Blanco... Espanha tem péssimas lembranças desses sobrenomes...\n",
      "1413286765826355207 2021-07-08 20:59:57 -0300 <SinEmbargoTR> La historia se pone de lado de Italia para la final de la Eurocopa ante Inglaterra  https://t.co/0sihSmbC0T\n",
      "1413286757211201538 2021-07-08 20:59:55 -0300 <Ruggeroamormio> Seguimos en tendencia en Italia   ASTOL FT RUGGERO\n",
      "1413286747727880194 2021-07-08 20:59:52 -0300 <EasyDest_> ¿Que tal la Postal?🤩 Atardecer en Roma Italia😍🇮🇹  https://t.co/OcgbJO2LyR\n",
      "1413286744896643075 2021-07-08 20:59:52 -0300 <ItalianSerieA> @socios @VitoAngele @acmilan @milanmania @ACMilanNYC @themilancorner @MilanClubPhilly  @ACMilanBros @Gap_Italia_STL  @acmilanyyc @MilanReports @ACMilanGoleador @MilanClubTO @ACMClubMTL @rossonero_fans  @ACMilanSF @ACMilanSanDiego @milanclubsocal @MilanClubBoston @IntChampionsCup\n",
      "1413286730912829442 2021-07-08 20:59:48 -0300 <ShinYan83514375> @DimplesSKZ Italia LEE KNOW IN CITY FISHERMAN #낚시왕_리노  #リノ @Stray_Kids #스트레이키즈리노 #LEEKNOW 스트레이 키즈 리노\n",
      "1413286726961963010 2021-07-08 20:59:47 -0300 <viaggrego> Ora l’#Ong francese #minaccia l’#Italia: “Dateci subito un #porto o domani #sbarchiamo in #Sicilia”. Comandano loro  https://t.co/qK2CG0Ew77  https://t.co/tEwNkmTkPF\n",
      "1413286706648952832 2021-07-08 20:59:43 -0300 <minhoney_98> @DimplesSKZ Italia   LEE KNOW IN CITY FISHERMAN #낚시왕_리노   #リノ @Stray_Kids #스트레이키즈리노 #LEEKNOW #스트레이키즈 #리노\n",
      "1413286706091016193 2021-07-08 20:59:42 -0300 <hyunnieIuv> @only4itzy corea japon italia croacia brasil 있지 채령 #CHAERYEONG  #채령  #ITZY  #있지  @ITZYofficial\n",
      "1413286705973637121 2021-07-08 20:59:42 -0300 <AdorniRocky> @He_is_roshan Italia o Estados Unidos.\n",
      "1413286672532492292 2021-07-08 20:59:34 -0300 <hjinnie_mole> @DimplesSKZ Italia  LEE KNOW IN CITY FISHERMAN #낚시왕_리노  #リノ  @Stray_Kid #스트레이키즈리노 #LEEKNOW 스트레이 키즈 리노\n",
      "1413286661623013376 2021-07-08 20:59:32 -0300 <nqn_noticias> EPAS trabaja en la reparación de un acueducto en República  de Italia y Combate de San Lorenzo  https://t.co/ihCS5s1cyh\n",
      "1413286661031698438 2021-07-08 20:59:32 -0300 <RichardBolivar> @radionudista Venezuela: Once upon a time in Venezuela Argentina: Moebius y El secreto de sus ojos Italia: La grande bellezza Francois Ozon: Gouttes d'eau sur pierres brûlantes Charles Kaufman: Synecdoche, New York\n",
      "1413286660863795202 2021-07-08 20:59:32 -0300 <razzmazatz> italia vai espancar os ingleses e eu vou dar boas risadas  é isso amigos #Azzurri\n",
      "1413286655742644232 2021-07-08 20:59:30 -0300 <AleGtrrezGil> @golrenier En America creo que ganara Brasil y en Europa Italia\n",
      "1413286645013561344 2021-07-08 20:59:28 -0300 <Janosch18901875> @azzurri @gigiodonna1 @gallobelotti Forza Italia and greetings from germoney.\n",
      "1413286644162220035 2021-07-08 20:59:28 -0300 <pjimdate> eu gosta da Itália e sei la acho q n tem um q eu n goste\n",
      "1413286630769766401 2021-07-08 20:59:25 -0300 <Jackson45631587> @FoxSportsBrasil Pele jogava no melhor time do Brasil. Maradona jogava no napoli no máximo top 4 na Itália. Atrás do Milan da juventus da Inter. Tanto comentárista desempregado aí a espn tem em seu quadro uma anta dessa.\n",
      "1413286576231272449 2021-07-08 20:59:12 -0300 <bsskndg> @Italia @VisitTuscany Thank God I was here a few years ago. Chances are I won’t see Italy for quite a while since @tapairportugal is screwing around with my money!\n",
      "1413286554030813192 2021-07-08 20:59:06 -0300 <JuanPasdq> Pues claro, eso sí primero Italia y luego Argentina\n",
      "1413286550247456774 2021-07-08 20:59:05 -0300 <yllgner23> Vai dá o brasa e a Itália\n",
      "1413286773116051457 2021-07-08 20:59:58 -0300 <Leonardormuller> @rbto10 Inglaterra\n",
      "1413286765826355207 2021-07-08 20:59:57 -0300 <SinEmbargoTR> La historia se pone de lado de Italia para la final de la Eurocopa ante Inglaterra  https://t.co/0sihSmbC0T\n",
      "1413286754929479680 2021-07-08 20:59:54 -0300 <metamaga> @Josemmabet Los daneses se van para Dinamarca sin la cartera y el domingo Inglaterra ganará su primera eurocopa,de la misma forma que ganó su unico mundial……en casa y atracando\n",
      "1413286723740647424 2021-07-08 20:59:47 -0300 <luisferbaq> @InvictosSomos 🇦🇷 Argentina  🏴󠁧󠁢󠁥󠁮󠁧󠁿 Inglaterra\n",
      "1413286694602821636 2021-07-08 20:59:40 -0300 <fsoantos17> @lbertozzi Brasileiro torcer pra Argentina é algo que merece uma análise mais profunda, pauta para jornalistas de primeira. Não sei dizer se é a morte lenta do futebol aqui mas isto era inimaginável há 10 anos atrás (e não imagino tb a situação inversa nem italiano torcendo pela Inglaterra)\n",
      "1413286673388081152 2021-07-08 20:59:35 -0300 <danielvalentim1> O Enigma do Príncipe vendeu 7 milhões de exemplares no dia em que foi lançado só no EUA. Na Inglaterra, vendeu mais exemplares em um dia do que O Código Da Vinci em um ano inteiro  https://t.co/aPxwBvtz3H\n",
      "1413286651565125635 2021-07-08 20:59:29 -0300 <gleidotil> @TNTSportsBR 2017 também foi muito bom:Inglaterra campeã mundial no sub-20 e no sub-17 e Manchester United campeão da Uefa Europa League.\n",
      "1413286647165296640 2021-07-08 20:59:28 -0300 <dariqenk> @morenabeltran10 @_niicogutierrez Alguien puede decir la maldita idea de inglaterra?\n",
      "1413286548339105793 2021-07-08 20:59:05 -0300 <ansomilo> Inglaterra y Francia se preparaban activamente para atacar a la URSS a finales de los años 30  https://t.co/tpgM3xPWVc via @diario_octubre\n",
      "1413286506182086657 2021-07-08 20:58:55 -0300 <Diego_Rivi> @Faitelson_ESPN Indudablemente Italia vs Inglaterra\n",
      "1413286501320904707 2021-07-08 20:58:54 -0300 <realsplendid> @MiloMillo1 @calmensenplz @RodriReynoso Dicho gesto lo hace Mina todo el tiempo cuando celebra un gol, también lo ha hecho en Inglaterra. Hay que tener la cabeza muuuy alterada para ver gestos obscenos en dónde no los hay y soslayar los REALES como los del enfermo arquero Argentino...\n",
      "1413286478457757699 2021-07-08 20:58:48 -0300 <jinnieow> @DimplesSKZ Inglaterra  LEE KNOW IN CITY FISHERMAN #낚시왕_리노   #リノ @Stray_Kids #스트레이키즈리노 #LEEKNOW 스트레이 키즈 리노\n",
      "1413286450775404552 2021-07-08 20:58:42 -0300 <PauliVillalobos> Me dan risa las araucarias en inglaterra jaja  https://t.co/ykN1OQ6pX9\n",
      "1413286430391033859 2021-07-08 20:58:37 -0300 <willycastro78> Hola Chipi @chipilaso93 un gran saludo, Brasil Argentina gran partido, desde nuestra realidad. Italia Inglaterra quizá mejor desde la realidad de los europeos. Los dos para mi son muy interesantes\n",
      "1413286421566304256 2021-07-08 20:58:35 -0300 <felipeerp_> @morenabeltran10 Sterling busca el recurso de Shaw. Es mi punto de vista y desde ahí me baso que en lo colectivo no es muy buen equipo Inglaterra. Un claro ejemplo es contra Ucrania si no me equivoco, que entro Grealish y creo dos jugadas de gol.\n",
      "1413286419062267905 2021-07-08 20:58:34 -0300 <VPITV> #8Jul | #NoticiasVPItv Emisión Central  | Italia e Inglaterra disputarán la final de la Euro este domingo, en medio de la polémica clasificación del conjunto inglés.  Conéctate a nuestra señal #EnVivo aquí  https://t.co/KNB6OJp2i5  https://t.co/dpkfb29X24\n",
      "1413286378448826369 2021-07-08 20:58:24 -0300 <nechb18> @Jmlopez_JRR10 @CJAntonio_10 @MotivacionesF Entonces el fútbol solo debería jugarse en Inglaterra....\n",
      "1413286355082305537 2021-07-08 20:58:19 -0300 <VozCritica_> El PNV que \"mendigó\" al nazismo e Inglaterra que invadieran España; el padre \"espiritual\" del nacionalismo vasco, S. Arana acabó sus días haciendo apología en favor de España-lo ocultan; Aguirre, entregó Bilbao a Franco y facilitó su victoria;... Corrupción por doquier ¡Cínicos!\n",
      "1413286338183507969 2021-07-08 20:58:15 -0300 <elcarlitrossc4> @LaFarola990122 @Rey53672026 @golrenier aquí dos fotos 1era foto agarrón de di lorenzo a eric garcía en el área : el árbitro nada  2da foto agarrón de shaw a christensen: pitan falta y gol de damsgard   vamos a ver el criterio, o no son faltas e inglaterra no robo o ambas lo son e italia también robo?  https://t.co/fsUY4o78y5\n",
      "1413286322811310084 2021-07-08 20:58:11 -0300 <onlyhbit> siento que mi ly es una chota pero soy fan de louis con la camiseta de inglaterra\n"
     ]
    }
   ],
   "metadata": {}
  },
  {
   "cell_type": "code",
   "execution_count": 12,
   "source": [
    "twitter_data"
   ],
   "outputs": [
    {
     "output_type": "execute_result",
     "data": {
      "text/plain": [
       "                                                tweet        team\n",
       "0   a meta hj é ficar acordada pra conseguir assis...      brasil\n",
       "1   @FoxSportsBrasil @sportrecife Hernanes terá o ...      brasil\n",
       "2         ALIADO DE BOLSONARO NA DESTRUIÇÃO DO BRASIL      brasil\n",
       "3   @jairbolsonaro por favor, cola uma equipe da P...      brasil\n",
       "4         @robertaacrf_ Any é a maior planta da ilha.      brasil\n",
       "..                                                ...         ...\n",
       "15  #8Jul | #NoticiasVPItv Emisión Central  | Ital...  inglaterra\n",
       "16  @Jmlopez_JRR10 @CJAntonio_10 @MotivacionesF En...  inglaterra\n",
       "17  El PNV que \"mendigó\" al nazismo e Inglaterra q...  inglaterra\n",
       "18  @LaFarola990122 @Rey53672026 @golrenier aquí d...  inglaterra\n",
       "19  siento que mi ly es una chota pero soy fan de ...  inglaterra\n",
       "\n",
       "[80 rows x 2 columns]"
      ],
      "text/html": [
       "<div>\n",
       "<style scoped>\n",
       "    .dataframe tbody tr th:only-of-type {\n",
       "        vertical-align: middle;\n",
       "    }\n",
       "\n",
       "    .dataframe tbody tr th {\n",
       "        vertical-align: top;\n",
       "    }\n",
       "\n",
       "    .dataframe thead th {\n",
       "        text-align: right;\n",
       "    }\n",
       "</style>\n",
       "<table border=\"1\" class=\"dataframe\">\n",
       "  <thead>\n",
       "    <tr style=\"text-align: right;\">\n",
       "      <th></th>\n",
       "      <th>tweet</th>\n",
       "      <th>team</th>\n",
       "    </tr>\n",
       "  </thead>\n",
       "  <tbody>\n",
       "    <tr>\n",
       "      <th>0</th>\n",
       "      <td>a meta hj é ficar acordada pra conseguir assis...</td>\n",
       "      <td>brasil</td>\n",
       "    </tr>\n",
       "    <tr>\n",
       "      <th>1</th>\n",
       "      <td>@FoxSportsBrasil @sportrecife Hernanes terá o ...</td>\n",
       "      <td>brasil</td>\n",
       "    </tr>\n",
       "    <tr>\n",
       "      <th>2</th>\n",
       "      <td>ALIADO DE BOLSONARO NA DESTRUIÇÃO DO BRASIL</td>\n",
       "      <td>brasil</td>\n",
       "    </tr>\n",
       "    <tr>\n",
       "      <th>3</th>\n",
       "      <td>@jairbolsonaro por favor, cola uma equipe da P...</td>\n",
       "      <td>brasil</td>\n",
       "    </tr>\n",
       "    <tr>\n",
       "      <th>4</th>\n",
       "      <td>@robertaacrf_ Any é a maior planta da ilha.</td>\n",
       "      <td>brasil</td>\n",
       "    </tr>\n",
       "    <tr>\n",
       "      <th>...</th>\n",
       "      <td>...</td>\n",
       "      <td>...</td>\n",
       "    </tr>\n",
       "    <tr>\n",
       "      <th>15</th>\n",
       "      <td>#8Jul | #NoticiasVPItv Emisión Central  | Ital...</td>\n",
       "      <td>inglaterra</td>\n",
       "    </tr>\n",
       "    <tr>\n",
       "      <th>16</th>\n",
       "      <td>@Jmlopez_JRR10 @CJAntonio_10 @MotivacionesF En...</td>\n",
       "      <td>inglaterra</td>\n",
       "    </tr>\n",
       "    <tr>\n",
       "      <th>17</th>\n",
       "      <td>El PNV que \"mendigó\" al nazismo e Inglaterra q...</td>\n",
       "      <td>inglaterra</td>\n",
       "    </tr>\n",
       "    <tr>\n",
       "      <th>18</th>\n",
       "      <td>@LaFarola990122 @Rey53672026 @golrenier aquí d...</td>\n",
       "      <td>inglaterra</td>\n",
       "    </tr>\n",
       "    <tr>\n",
       "      <th>19</th>\n",
       "      <td>siento que mi ly es una chota pero soy fan de ...</td>\n",
       "      <td>inglaterra</td>\n",
       "    </tr>\n",
       "  </tbody>\n",
       "</table>\n",
       "<p>80 rows × 2 columns</p>\n",
       "</div>"
      ]
     },
     "metadata": {},
     "execution_count": 12
    }
   ],
   "metadata": {}
  },
  {
   "cell_type": "code",
   "execution_count": 10,
   "source": [
    "t = twint.Config()\r\n",
    "t.Search = parameters.loc[1]['team']\r\n",
    "t.Since = str(parameters.loc[1]['tweet_date2'].date())\r\n",
    "t.Until = str(parameters.loc[1]['tweet_date1'].date())\r\n",
    "t.Limit = 1\r\n",
    "t.Pandas = True\r\n",
    "\r\n",
    "# Run\r\n",
    "twint.run.Search(t)\r\n",
    "\r\n",
    "# Save \r\n",
    "results2 = twint.storage.panda.Tweets_df"
   ],
   "outputs": [
    {
     "output_type": "stream",
     "name": "stdout",
     "text": [
      "1423070746822184971 2021-08-04 20:58:00 -0300 <goncalo_diass17> Nélson Oliveira (Movistar) obteve a 97.ª posição no segundo dia da Volta a Burgos, Espanha, numa etapa ganha pelo colombiano Juan Molano (UAE Emirates), e subiu ao 63.º posto da classificação geral.  https://t.co/4UWjQ7XXoT\n",
      "1423070736021925892 2021-08-04 20:57:57 -0300 <denjigaucho> @conceituaI cabra espanha\n",
      "1423070703939690500 2021-08-04 20:57:49 -0300 <AnaFern63674421> @AvelinoWandy Espanha #SenÇalKapımı\n",
      "1423070130150547463 2021-08-04 20:55:33 -0300 <Giovannagnl> @Espanha_19 Me dá 100 mil reais pfv\n",
      "1423069934117138435 2021-08-04 20:54:46 -0300 <flavioov2> @EmbEspBrasil Boa noite.  Eu entendi que há restrição apenas para voos saindo do Brasil, mas não há restrição para a entrada de cidadãos brasileiros que estejam vacinados. Dessa forma, é possível viajar para a Espanha saindo de outro país. Está correto o meu entendimento?\n",
      "1423069913372049408 2021-08-04 20:54:41 -0300 <Fernanda_Ab_> GERMANY É ESPANHA KKKKKKKKKKKKKKKKKK\n",
      "1423069785542246402 2021-08-04 20:54:10 -0300 <CoronavirusAL> 🇧🇷 Brasil | A Polícia Federal apreendeu 1.3 toneladas de cocaína em um avião particular turco no Aeroporto de Fortaleza. Na aeronave estavam 4 tripulantes da Turquia e o passageiro da Espanha. O avião saiu de Ribeirão Preto-SP e tinha como destino Bruxelas, na Bélgica.\n",
      "1423069748045230082 2021-08-04 20:54:01 -0300 <rfguerra> @GNgalo Cara, se eu sou um bilionário árabe ou chinês, eu vou preferir investir num clube médio ou pequeno da Inglaterra, da Italia, Espanha, Alemanha, França etc do q um curintia, por exemplo. O Chelsea é a prova disso. Quanto à governança, ela deveria estar automaticamente embutida, né\n",
      "1423069702646116358 2021-08-04 20:53:51 -0300 <cclpositive> @L_Fighera A Europa já está se aprontando para sua insurreição. Itália, França, Espanha, Alemanha são as principais praças do movimento. Em breve se espalhará pelo Ocidente e em Israel.  https://t.co/jU1zxUADPn\n",
      "1423069658542977024 2021-08-04 20:53:40 -0300 <dinonara_svt> @usebrusinhas Camisa da Espanha ta diferente  https://t.co/BQHtj6Aj05\n",
      "1423069117993586690 2021-08-04 20:51:31 -0300 <andresrguez> @nunottav Se há tugão que não quer da medalha bem podiam dar a Espanha 😂\n",
      "1423069002247688202 2021-08-04 20:51:04 -0300 <_LimaGustavo> eu acho que o Brasil traz ouro com o vôlei masculino e feminino, o futebol talvez, pois a Espanha ta uma panela da porra, é muito forte\n",
      "1423068943858667520 2021-08-04 20:50:50 -0300 <gilmarbritooli4> @FoxSportsBrasil Que título Renato ganhou pela seleção?, Eu não lembro de nenhum, até fui fã, mas Tele Santana nada gostava, foi cortado em 82 Copa da Espanha.\n",
      "1423068813533319168 2021-08-04 20:50:19 -0300 <adrianaferrel> @flaviocostaf Virou moda governo traficar depois que bozo foi pego na Espanha. Oxii\n",
      "1423068734638501891 2021-08-04 20:50:00 -0300 <_indefenix> \"GERMANIA É ESPANHA\" EU TO PASSANDO MAL HSUSHSUSHS\n",
      "1423068718947504130 2021-08-04 20:49:56 -0300 <DurvalN2107> @tvdsorteios @contasparadoar Globoplay Pais: Espanha\n",
      "1423068637309571073 2021-08-04 20:49:37 -0300 <IagoSou45959673> @Cris11714237 @carteiroreaca @andersongtorres Pq prenderam na espanha por que se fosse pela fiscalização do brasil ja tinha levado mais\n",
      "1423068513498017794 2021-08-04 20:49:07 -0300 <correio> Brasiliense Reinier tentará contra a Espanha o quarto título em dois anos como profissional.  https://t.co/nkw0ma9ZSb | por @mplimaDF  https://t.co/Mp4Ifh3I8I\n",
      "1423068218843967492 2021-08-04 20:47:57 -0300 <BTSsuporte7> @UGHBrasil @BTS_twt Espanha  DOE FILTER #MTVHOTTEST BTS @BTS_twt\n",
      "1423067763208228866 2021-08-04 20:46:08 -0300 <nau_sem_rumo> @muylaerte @botts___ Franco, Blanco... Espanha tem péssimas lembranças desses sobrenomes...\n"
     ]
    }
   ],
   "metadata": {}
  },
  {
   "cell_type": "code",
   "execution_count": 36,
   "source": [
    "results2['tweet']"
   ],
   "outputs": [
    {
     "output_type": "execute_result",
     "data": {
      "text/plain": [
       "0          @MarcosQuezado1 Não há ninguém dividido aqui\n",
       "1     @terra_dourada @andreluizmangu1 @agrestin0 @Ma...\n",
       "2     @tdcosta100 e é muito fácil comer meu cérebro ...\n",
       "3     Eu tava linda nesse dia mas depois eu lembro q...\n",
       "4     @NimoTV_Brasil @smurfdomuca Inclusive cade ess...\n",
       "5                                 @nahrivelli aí pfv 🥺🥺\n",
       "6     Qual o objetivo de citar   @tabataamaralsp e @...\n",
       "7     Queremos a VERDADEIRA DEMOCRACIA no Brasil! Qu...\n",
       "8                           @jtimberlakepics Um anjo ❤️\n",
       "9                Brasil, 2021.  https://t.co/JyC0NIThOi\n",
       "10    Patriotas do nosso Brasil, vamos iniciar uma c...\n",
       "11    @felipemessmo A graça desse programa é não ter...\n",
       "12    Pois é! O cara volutou contra!Vc acredita?  ht...\n",
       "13    @HeroTadashi Eu tenho uma relação difícil com ...\n",
       "14    Cara, só rindo dos torcedores do fluC, o time ...\n",
       "15    Que triste. Brasil registra segundo pior ano d...\n",
       "16    @_luanacec Ficar sem cartão de crédito é fogo!...\n",
       "17    Brasil que deu certo ficando pistola com Batat...\n",
       "18    @NimoTV_Brasil @smurfdomuca os cara meterem an...\n",
       "19                                  DISGRAAAAAAAAAAAAÇA\n",
       "Name: tweet, dtype: object"
      ]
     },
     "metadata": {},
     "execution_count": 36
    }
   ],
   "metadata": {}
  },
  {
   "cell_type": "code",
   "execution_count": 4,
   "source": [
    "data = twint.storage.panda.Tweets_df\r\n",
    "data.shape"
   ],
   "outputs": [
    {
     "output_type": "execute_result",
     "data": {
      "text/plain": [
       "(518, 38)"
      ]
     },
     "metadata": {},
     "execution_count": 4
    }
   ],
   "metadata": {}
  }
 ],
 "metadata": {
  "orig_nbformat": 4,
  "language_info": {
   "name": "python",
   "version": "3.9.5",
   "mimetype": "text/x-python",
   "codemirror_mode": {
    "name": "ipython",
    "version": 3
   },
   "pygments_lexer": "ipython3",
   "nbconvert_exporter": "python",
   "file_extension": ".py"
  },
  "kernelspec": {
   "name": "python3",
   "display_name": "Python 3.9.5 64-bit"
  },
  "interpreter": {
   "hash": "af822c890ad7386829fe2805748738e9413fa31e14ce154340cf62a504cf8f66"
  }
 },
 "nbformat": 4,
 "nbformat_minor": 2
}