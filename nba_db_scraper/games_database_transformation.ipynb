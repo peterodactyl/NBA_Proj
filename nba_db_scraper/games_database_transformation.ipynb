{
    "cells": [
        {
            "cell_type": "markdown",
            "source": [
                "\r\n",
                "# NBA Games Dataset - Basic Treatment\r\n",
                "\r\n",
                "Within this notebook preparations are made to the file <code>game_info.csv</code> in order to make it a suitable foundation for the tweet extraction pipeline in <code>pipeline_tweets.py</code><br>\r\n",
                "and for other scripts.\r\n",
                "<br>\r\n",
                "<br>\r\n",
                "<br>\r\n",
                "Author: PSC"
            ],
            "metadata": {}
        },
        {
            "cell_type": "code",
            "execution_count": 7,
            "source": [
                "import pandas as pd\r\n",
                "import datetime\r\n",
                "from create_databases import PATH_ROOT"
            ],
            "outputs": [],
            "metadata": {}
        },
        {
            "cell_type": "code",
            "execution_count": 8,
            "source": [
                "game_info = pd.read_csv(PATH_ROOT + 'game_info.csv')\r\n",
                "game_info.head(2)"
            ],
            "outputs": [
                {
                    "output_type": "execute_result",
                    "data": {
                        "text/plain": [
                            "   Unnamed: 0 SEASON_YEAR     TEAM_ID TEAM_ABBREVIATION            TEAM_NAME  \\\n",
                            "0           0     1996-97  1610612764               WAS   Washington Bullets   \n",
                            "1           1     1996-97  1610612739               CLE  Cleveland Cavaliers   \n",
                            "\n",
                            "    GAME_ID            GAME_DATE      MATCHUP WL   MIN  ...  REB_RANK  \\\n",
                            "0  29601184  1997-04-20T00:00:00    WAS @ CLE  W  48.0  ...       499   \n",
                            "1  29601184  1997-04-20T00:00:00  CLE vs. WAS  L  48.0  ...      1775   \n",
                            "\n",
                            "   AST_RANK  TOV_RANK  STL_RANK  BLK_RANK  BLKA_RANK  PF_RANK  PFD_RANK  \\\n",
                            "0      1767       355      2258       887       1493     1106        22   \n",
                            "1      1057       142      1033       606       1152      691        22   \n",
                            "\n",
                            "   PTS_RANK  PLUS_MINUS_RANK  \n",
                            "0      1961              929  \n",
                            "1      2138             1366  \n",
                            "\n",
                            "[2 rows x 57 columns]"
                        ],
                        "text/html": [
                            "<div>\n",
                            "<style scoped>\n",
                            "    .dataframe tbody tr th:only-of-type {\n",
                            "        vertical-align: middle;\n",
                            "    }\n",
                            "\n",
                            "    .dataframe tbody tr th {\n",
                            "        vertical-align: top;\n",
                            "    }\n",
                            "\n",
                            "    .dataframe thead th {\n",
                            "        text-align: right;\n",
                            "    }\n",
                            "</style>\n",
                            "<table border=\"1\" class=\"dataframe\">\n",
                            "  <thead>\n",
                            "    <tr style=\"text-align: right;\">\n",
                            "      <th></th>\n",
                            "      <th>Unnamed: 0</th>\n",
                            "      <th>SEASON_YEAR</th>\n",
                            "      <th>TEAM_ID</th>\n",
                            "      <th>TEAM_ABBREVIATION</th>\n",
                            "      <th>TEAM_NAME</th>\n",
                            "      <th>GAME_ID</th>\n",
                            "      <th>GAME_DATE</th>\n",
                            "      <th>MATCHUP</th>\n",
                            "      <th>WL</th>\n",
                            "      <th>MIN</th>\n",
                            "      <th>...</th>\n",
                            "      <th>REB_RANK</th>\n",
                            "      <th>AST_RANK</th>\n",
                            "      <th>TOV_RANK</th>\n",
                            "      <th>STL_RANK</th>\n",
                            "      <th>BLK_RANK</th>\n",
                            "      <th>BLKA_RANK</th>\n",
                            "      <th>PF_RANK</th>\n",
                            "      <th>PFD_RANK</th>\n",
                            "      <th>PTS_RANK</th>\n",
                            "      <th>PLUS_MINUS_RANK</th>\n",
                            "    </tr>\n",
                            "  </thead>\n",
                            "  <tbody>\n",
                            "    <tr>\n",
                            "      <th>0</th>\n",
                            "      <td>0</td>\n",
                            "      <td>1996-97</td>\n",
                            "      <td>1610612764</td>\n",
                            "      <td>WAS</td>\n",
                            "      <td>Washington Bullets</td>\n",
                            "      <td>29601184</td>\n",
                            "      <td>1997-04-20T00:00:00</td>\n",
                            "      <td>WAS @ CLE</td>\n",
                            "      <td>W</td>\n",
                            "      <td>48.0</td>\n",
                            "      <td>...</td>\n",
                            "      <td>499</td>\n",
                            "      <td>1767</td>\n",
                            "      <td>355</td>\n",
                            "      <td>2258</td>\n",
                            "      <td>887</td>\n",
                            "      <td>1493</td>\n",
                            "      <td>1106</td>\n",
                            "      <td>22</td>\n",
                            "      <td>1961</td>\n",
                            "      <td>929</td>\n",
                            "    </tr>\n",
                            "    <tr>\n",
                            "      <th>1</th>\n",
                            "      <td>1</td>\n",
                            "      <td>1996-97</td>\n",
                            "      <td>1610612739</td>\n",
                            "      <td>CLE</td>\n",
                            "      <td>Cleveland Cavaliers</td>\n",
                            "      <td>29601184</td>\n",
                            "      <td>1997-04-20T00:00:00</td>\n",
                            "      <td>CLE vs. WAS</td>\n",
                            "      <td>L</td>\n",
                            "      <td>48.0</td>\n",
                            "      <td>...</td>\n",
                            "      <td>1775</td>\n",
                            "      <td>1057</td>\n",
                            "      <td>142</td>\n",
                            "      <td>1033</td>\n",
                            "      <td>606</td>\n",
                            "      <td>1152</td>\n",
                            "      <td>691</td>\n",
                            "      <td>22</td>\n",
                            "      <td>2138</td>\n",
                            "      <td>1366</td>\n",
                            "    </tr>\n",
                            "  </tbody>\n",
                            "</table>\n",
                            "<p>2 rows × 57 columns</p>\n",
                            "</div>"
                        ]
                    },
                    "metadata": {},
                    "execution_count": 8
                }
            ],
            "metadata": {}
        },
        {
            "cell_type": "code",
            "execution_count": 9,
            "source": [
                "foundation = game_info[['TEAM_NAME', 'GAME_DATE', 'GAME_ID']].copy()"
            ],
            "outputs": [],
            "metadata": {}
        },
        {
            "cell_type": "code",
            "execution_count": 10,
            "source": [
                "foundation.head(1)"
            ],
            "outputs": [
                {
                    "output_type": "execute_result",
                    "data": {
                        "text/plain": [
                            "            TEAM_NAME            GAME_DATE   GAME_ID\n",
                            "0  Washington Bullets  1997-04-20T00:00:00  29601184"
                        ],
                        "text/html": [
                            "<div>\n",
                            "<style scoped>\n",
                            "    .dataframe tbody tr th:only-of-type {\n",
                            "        vertical-align: middle;\n",
                            "    }\n",
                            "\n",
                            "    .dataframe tbody tr th {\n",
                            "        vertical-align: top;\n",
                            "    }\n",
                            "\n",
                            "    .dataframe thead th {\n",
                            "        text-align: right;\n",
                            "    }\n",
                            "</style>\n",
                            "<table border=\"1\" class=\"dataframe\">\n",
                            "  <thead>\n",
                            "    <tr style=\"text-align: right;\">\n",
                            "      <th></th>\n",
                            "      <th>TEAM_NAME</th>\n",
                            "      <th>GAME_DATE</th>\n",
                            "      <th>GAME_ID</th>\n",
                            "    </tr>\n",
                            "  </thead>\n",
                            "  <tbody>\n",
                            "    <tr>\n",
                            "      <th>0</th>\n",
                            "      <td>Washington Bullets</td>\n",
                            "      <td>1997-04-20T00:00:00</td>\n",
                            "      <td>29601184</td>\n",
                            "    </tr>\n",
                            "  </tbody>\n",
                            "</table>\n",
                            "</div>"
                        ]
                    },
                    "metadata": {},
                    "execution_count": 10
                }
            ],
            "metadata": {}
        },
        {
            "cell_type": "code",
            "execution_count": 13,
            "source": [
                "foundation.shape"
            ],
            "outputs": [
                {
                    "output_type": "execute_result",
                    "data": {
                        "text/plain": [
                            "(58792, 5)"
                        ]
                    },
                    "metadata": {},
                    "execution_count": 13
                }
            ],
            "metadata": {}
        },
        {
            "cell_type": "code",
            "execution_count": 11,
            "source": [
                "foundation['GAME_DATE'] = foundation['GAME_DATE'].str.split('T').str[0]\r\n",
                "foundation.head(2)"
            ],
            "outputs": [
                {
                    "output_type": "execute_result",
                    "data": {
                        "text/plain": [
                            "             TEAM_NAME   GAME_DATE   GAME_ID\n",
                            "0   Washington Bullets  1997-04-20  29601184\n",
                            "1  Cleveland Cavaliers  1997-04-20  29601184"
                        ],
                        "text/html": [
                            "<div>\n",
                            "<style scoped>\n",
                            "    .dataframe tbody tr th:only-of-type {\n",
                            "        vertical-align: middle;\n",
                            "    }\n",
                            "\n",
                            "    .dataframe tbody tr th {\n",
                            "        vertical-align: top;\n",
                            "    }\n",
                            "\n",
                            "    .dataframe thead th {\n",
                            "        text-align: right;\n",
                            "    }\n",
                            "</style>\n",
                            "<table border=\"1\" class=\"dataframe\">\n",
                            "  <thead>\n",
                            "    <tr style=\"text-align: right;\">\n",
                            "      <th></th>\n",
                            "      <th>TEAM_NAME</th>\n",
                            "      <th>GAME_DATE</th>\n",
                            "      <th>GAME_ID</th>\n",
                            "    </tr>\n",
                            "  </thead>\n",
                            "  <tbody>\n",
                            "    <tr>\n",
                            "      <th>0</th>\n",
                            "      <td>Washington Bullets</td>\n",
                            "      <td>1997-04-20</td>\n",
                            "      <td>29601184</td>\n",
                            "    </tr>\n",
                            "    <tr>\n",
                            "      <th>1</th>\n",
                            "      <td>Cleveland Cavaliers</td>\n",
                            "      <td>1997-04-20</td>\n",
                            "      <td>29601184</td>\n",
                            "    </tr>\n",
                            "  </tbody>\n",
                            "</table>\n",
                            "</div>"
                        ]
                    },
                    "metadata": {},
                    "execution_count": 11
                }
            ],
            "metadata": {}
        },
        {
            "cell_type": "code",
            "execution_count": 12,
            "source": [
                "foundation['tweet_since'] = pd.to_datetime(foundation['GAME_DATE']) - datetime.timedelta(3)\r\n",
                "foundation['tweet_until'] = pd.to_datetime(foundation['GAME_DATE']) - datetime.timedelta(1)\r\n",
                "foundation.head(1)"
            ],
            "outputs": [
                {
                    "output_type": "execute_result",
                    "data": {
                        "text/plain": [
                            "            TEAM_NAME   GAME_DATE   GAME_ID tweet_since tweet_until\n",
                            "0  Washington Bullets  1997-04-20  29601184  1997-04-17  1997-04-19"
                        ],
                        "text/html": [
                            "<div>\n",
                            "<style scoped>\n",
                            "    .dataframe tbody tr th:only-of-type {\n",
                            "        vertical-align: middle;\n",
                            "    }\n",
                            "\n",
                            "    .dataframe tbody tr th {\n",
                            "        vertical-align: top;\n",
                            "    }\n",
                            "\n",
                            "    .dataframe thead th {\n",
                            "        text-align: right;\n",
                            "    }\n",
                            "</style>\n",
                            "<table border=\"1\" class=\"dataframe\">\n",
                            "  <thead>\n",
                            "    <tr style=\"text-align: right;\">\n",
                            "      <th></th>\n",
                            "      <th>TEAM_NAME</th>\n",
                            "      <th>GAME_DATE</th>\n",
                            "      <th>GAME_ID</th>\n",
                            "      <th>tweet_since</th>\n",
                            "      <th>tweet_until</th>\n",
                            "    </tr>\n",
                            "  </thead>\n",
                            "  <tbody>\n",
                            "    <tr>\n",
                            "      <th>0</th>\n",
                            "      <td>Washington Bullets</td>\n",
                            "      <td>1997-04-20</td>\n",
                            "      <td>29601184</td>\n",
                            "      <td>1997-04-17</td>\n",
                            "      <td>1997-04-19</td>\n",
                            "    </tr>\n",
                            "  </tbody>\n",
                            "</table>\n",
                            "</div>"
                        ]
                    },
                    "metadata": {},
                    "execution_count": 12
                }
            ],
            "metadata": {}
        },
        {
            "cell_type": "markdown",
            "source": [
                "Since Twitter first went online on 2006, there is no point in keeping games previous to that year for twitter search purposes.<br><br>\r\n",
                "Twitter reached the milestone of 50M active users per month in 2010<br> \r\n",
                "(Font: https://www.bbc.com/news/special/panels/13/nov/twitter_users/inc/panel.inc?responsive=true).<br> \r\n",
                "This is the point from which tweets will star to be considered. Previous to this, the number of active user might have been too low. "
            ],
            "metadata": {}
        },
        {
            "cell_type": "code",
            "execution_count": 15,
            "source": [
                "foundation = foundation.query(\"tweet_since >= '2010-01-01' \")\r\n",
                "foundation.shape"
            ],
            "outputs": [
                {
                    "output_type": "execute_result",
                    "data": {
                        "text/plain": [
                            "(27410, 5)"
                        ]
                    },
                    "metadata": {},
                    "execution_count": 15
                }
            ],
            "metadata": {}
        },
        {
            "cell_type": "code",
            "execution_count": 16,
            "source": [
                "foundation.to_csv(PATH_ROOT + 'foundation.csv')"
            ],
            "outputs": [],
            "metadata": {}
        }
    ],
    "metadata": {
        "orig_nbformat": 4,
        "language_info": {
            "name": "python",
            "version": "3.9.5",
            "mimetype": "text/x-python",
            "codemirror_mode": {
                "name": "ipython",
                "version": 3
            },
            "pygments_lexer": "ipython3",
            "nbconvert_exporter": "python",
            "file_extension": ".py"
        },
        "kernelspec": {
            "name": "python3",
            "display_name": "Python 3.9.5 64-bit"
        },
        "interpreter": {
            "hash": "af822c890ad7386829fe2805748738e9413fa31e14ce154340cf62a504cf8f66"
        }
    },
    "nbformat": 4,
    "nbformat_minor": 2
}